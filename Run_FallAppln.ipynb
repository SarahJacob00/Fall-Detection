{
 "cells": [
  {
   "cell_type": "code",
   "execution_count": 1,
   "metadata": {},
   "outputs": [],
   "source": [
    "import Fall_Model"
   ]
  },
  {
   "cell_type": "code",
   "execution_count": 2,
   "metadata": {},
   "outputs": [],
   "source": [
    "a,b,c=Fall_Model.model(r'C:\\Users\\jacob\\#A FYP\\fall5.mp4')"
   ]
  },
  {
   "cell_type": "code",
   "execution_count": 3,
   "metadata": {},
   "outputs": [
    {
     "name": "stdout",
     "output_type": "stream",
     "text": [
      "FALL DETECTED\n"
     ]
    }
   ],
   "source": [
    "print(a)"
   ]
  },
  {
   "cell_type": "code",
   "execution_count": 4,
   "metadata": {},
   "outputs": [
    {
     "name": "stdout",
     "output_type": "stream",
     "text": [
      "PERSON HAS NOT STOOD UP\n"
     ]
    }
   ],
   "source": [
    "print(b)"
   ]
  },
  {
   "cell_type": "code",
   "execution_count": 9,
   "metadata": {},
   "outputs": [
    {
     "name": "stdout",
     "output_type": "stream",
     "text": [
      "Collecting tk\n",
      "  Downloading tk-0.1.0-py3-none-any.whl (3.9 kB)\n",
      "Installing collected packages: tk\n",
      "Successfully installed tk-0.1.0\n",
      "Note: you may need to restart the kernel to use updated packages.\n"
     ]
    },
    {
     "name": "stderr",
     "output_type": "stream",
     "text": [
      "WARNING: Ignoring invalid distribution -umpy (c:\\users\\jacob\\anaconda3\\lib\\site-packages)\n",
      "WARNING: Ignoring invalid distribution -umpy (c:\\users\\jacob\\anaconda3\\lib\\site-packages)\n",
      "WARNING: Ignoring invalid distribution -umpy (c:\\users\\jacob\\anaconda3\\lib\\site-packages)\n",
      "WARNING: Ignoring invalid distribution -umpy (c:\\users\\jacob\\anaconda3\\lib\\site-packages)\n",
      "WARNING: Ignoring invalid distribution -umpy (c:\\users\\jacob\\anaconda3\\lib\\site-packages)\n",
      "WARNING: Ignoring invalid distribution -umpy (c:\\users\\jacob\\anaconda3\\lib\\site-packages)\n",
      "WARNING: Ignoring invalid distribution -umpy (c:\\users\\jacob\\anaconda3\\lib\\site-packages)\n",
      "WARNING: You are using pip version 21.1.2; however, version 21.1.3 is available.\n",
      "You should consider upgrading via the 'C:\\Users\\jacob\\anaconda3\\python.exe -m pip install --upgrade pip' command.\n"
     ]
    }
   ],
   "source": [
    "pip install tk"
   ]
  },
  {
   "cell_type": "code",
   "execution_count": 1,
   "metadata": {},
   "outputs": [
    {
     "name": "stdout",
     "output_type": "stream",
     "text": [
      "Collecting playsound\n",
      "  Downloading playsound-1.2.2-py2.py3-none-any.whl (6.0 kB)\n",
      "Installing collected packages: playsound\n",
      "Successfully installed playsound-1.2.2\n",
      "Note: you may need to restart the kernel to use updated packages.\n"
     ]
    },
    {
     "name": "stderr",
     "output_type": "stream",
     "text": [
      "WARNING: Ignoring invalid distribution -umpy (c:\\users\\jacob\\anaconda3\\lib\\site-packages)\n",
      "WARNING: Ignoring invalid distribution -umpy (c:\\users\\jacob\\anaconda3\\lib\\site-packages)\n",
      "WARNING: Ignoring invalid distribution -umpy (c:\\users\\jacob\\anaconda3\\lib\\site-packages)\n",
      "WARNING: Ignoring invalid distribution -umpy (c:\\users\\jacob\\anaconda3\\lib\\site-packages)\n",
      "WARNING: Ignoring invalid distribution -umpy (c:\\users\\jacob\\anaconda3\\lib\\site-packages)\n",
      "WARNING: Ignoring invalid distribution -umpy (c:\\users\\jacob\\anaconda3\\lib\\site-packages)\n",
      "WARNING: Ignoring invalid distribution -umpy (c:\\users\\jacob\\anaconda3\\lib\\site-packages)\n",
      "WARNING: You are using pip version 21.1.2; however, version 21.1.3 is available.\n",
      "You should consider upgrading via the 'C:\\Users\\jacob\\anaconda3\\python.exe -m pip install --upgrade pip' command.\n"
     ]
    }
   ],
   "source": [
    "pip install playsound"
   ]
  },
  {
   "cell_type": "code",
   "execution_count": null,
   "metadata": {},
   "outputs": [],
   "source": [
    "from tkinter import *\n",
    "import Fall_Model\n",
    "from tkinter.ttk import *\n",
    "from tkinter.filedialog import askopenfile \n",
    "import time\n",
    "from playsound import playsound\n",
    "from tkinter_custom_button import TkinterCustomButton\n",
    "\n",
    "ws = Tk()\n",
    "ws.title('Fall Detector')\n",
    "ws.geometry('800x500') \n",
    "ws.configure(bg='white')\n",
    "\n",
    "def open_file():\n",
    "    \n",
    "    file_path = askopenfile(mode='r', filetypes=[('MP4', '*mp4')])\n",
    "    if file_path is not None:\n",
    "        pass\n",
    "    \n",
    "    #------------------------UPLOAD AND PROCESSING---------------------------\n",
    "    upload=Label(ws, text='Video Uploaded!', foreground='black',background='white',font=(\"Helvetica\", 13))\n",
    "    upload.place(x=330, y=190)\n",
    "    process=Label(ws, text='Processing Video...', foreground='black',background='white',font=(\"Helvetica\", 13))\n",
    "    process.place(x=320, y=210)\n",
    "    \n",
    "    #-----------------------------PROGRESS BAR ----------------------------------------------\n",
    "    pb1 = Progressbar(ws,orient=HORIZONTAL,length=330,mode='determinate')\n",
    "    pb1.place(x=230, y=240)\n",
    "    \n",
    "    for i in range(5):\n",
    "        ws.update_idletasks()\n",
    "        pb1['value'] += 20\n",
    "        time.sleep(1)\n",
    "    pb1.destroy()\n",
    "    \n",
    "    \n",
    "    \n",
    "     #-------------------------------CALLING OUR MODEL---------------------------------------\n",
    "    a,b,stood,fall=Fall_Model.model(file_path.name)\n",
    "    \n",
    "    \n",
    "    #-----------------------------------RESULTS DISPLAYED------------------------------------\n",
    "    filename=\"File Name :\"+file_path.name\n",
    "    Label(ws, text='RESULTS:', foreground='black',background='white',font=(\"Helvetica\", 13)).place(x=270, y=270)\n",
    "    Label(ws, text=filename, foreground='black',background='white',font=(\"Helvetica\", 13)).place(x=290, y=300)\n",
    "    Label(ws, text=a, foreground='green',background='white',font=(\"Helvetica\", 13)).place(x=290, y=330)\n",
    "    Label(ws, text=b, foreground='green',background='white',font=(\"Helvetica\", 13)).place(x=290, y=360)\n",
    "    \n",
    "    done=Label(ws, text='Done Processing Video', foreground='black',background='white',font=(\"Helvetica\", 13))\n",
    "    done.place(x=330, y=390)\n",
    "    process.destroy()\n",
    "     #-------------------------------ALARM RAISED---------------------------------------\n",
    "    if stood==0 and fall==1:\n",
    "        playsound(r'Alarm_fyp.mp3')\n",
    "\n",
    "    \n",
    "lbl=Label(ws, text=\"Fall Detector\", foreground='black', font=(\"Helvetica\", 25),background='white')\n",
    "lbl.place(x=320, y=80)\n",
    "\n",
    "fall_video = Label(ws, text='Upload Video to test for fall',background='white',font=(\"Helvetica\", 15))\n",
    "fall_video.place(x=150, y=150)\n",
    "\n",
    "fall_video_btn = TkinterCustomButton(bg_color=None,\n",
    "                                            fg_color=\"#2874A6\",\n",
    "                                            hover_color=\"#5499C7\",\n",
    "                                            text_font=None,\n",
    "                                            text=\"Select Video\",\n",
    "                                            text_color=\"white\",\n",
    "                                            corner_radius=10,\n",
    "                                            width=120,\n",
    "                                            height=35,\n",
    "                                            hover=True,\n",
    "                                            command = lambda:open_file())\n",
    "\n",
    "fall_video_btn.place(x=550, y=143)\n",
    "\n",
    "ws.mainloop()"
   ]
  },
  {
   "cell_type": "code",
   "execution_count": null,
   "metadata": {},
   "outputs": [],
   "source": [
    "Button(ws,text ='Select Video', command = lambda:open_file()) \n",
    "fall_video_btn.place(x=550, y=150)"
   ]
  }
 ],
 "metadata": {
  "kernelspec": {
   "display_name": "Python 3",
   "language": "python",
   "name": "python3"
  },
  "language_info": {
   "codemirror_mode": {
    "name": "ipython",
    "version": 3
   },
   "file_extension": ".py",
   "mimetype": "text/x-python",
   "name": "python",
   "nbconvert_exporter": "python",
   "pygments_lexer": "ipython3",
   "version": "3.7.6"
  }
 },
 "nbformat": 4,
 "nbformat_minor": 4
}
